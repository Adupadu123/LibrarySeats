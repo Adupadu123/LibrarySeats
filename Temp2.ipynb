{
 "cells": [
  {
   "cell_type": "code",
   "execution_count": 34,
   "metadata": {},
   "outputs": [
    {
     "ename": "TypeError",
     "evalue": "unhashable type: 'Series'",
     "output_type": "error",
     "traceback": [
      "\u001b[1;31m---------------------------------------------------------------------------\u001b[0m",
      "\u001b[1;31mTypeError\u001b[0m                                 Traceback (most recent call last)",
      "Cell \u001b[1;32mIn[34], line 46\u001b[0m\n\u001b[0;32m     44\u001b[0m df1[\u001b[38;5;124m'\u001b[39m\u001b[38;5;124mkey\u001b[39m\u001b[38;5;124m'\u001b[39m]\u001b[38;5;241m=\u001b[39m\u001b[38;5;241m1\u001b[39m\n\u001b[0;32m     45\u001b[0m df2\u001b[38;5;241m=\u001b[39mpd\u001b[38;5;241m.\u001b[39mmerge(df,df1,on\u001b[38;5;241m=\u001b[39m\u001b[38;5;124m'\u001b[39m\u001b[38;5;124mkey\u001b[39m\u001b[38;5;124m'\u001b[39m,suffixes\u001b[38;5;241m=\u001b[39m[\u001b[38;5;124m'\u001b[39m\u001b[38;5;124m_1\u001b[39m\u001b[38;5;124m'\u001b[39m,\u001b[38;5;124m'\u001b[39m\u001b[38;5;124m_2\u001b[39m\u001b[38;5;124m'\u001b[39m])\n\u001b[1;32m---> 46\u001b[0m df2\u001b[38;5;241m=\u001b[39mdf2[df2[\u001b[38;5;124m'\u001b[39m\u001b[38;5;124mLibrary_1\u001b[39m\u001b[38;5;124m'\u001b[39m]\u001b[38;5;241m.\u001b[39mstr\u001b[38;5;241m.\u001b[39mcontains(df2[\u001b[38;5;124m'\u001b[39m\u001b[38;5;124mLibrary_2\u001b[39m\u001b[38;5;124m'\u001b[39m])]\n\u001b[0;32m     47\u001b[0m df2\n",
      "File \u001b[1;32mc:\\Users\\advai\\anaconda3\\Lib\\site-packages\\pandas\\core\\strings\\accessor.py:129\u001b[0m, in \u001b[0;36mforbid_nonstring_types.<locals>._forbid_nonstring_types.<locals>.wrapper\u001b[1;34m(self, *args, **kwargs)\u001b[0m\n\u001b[0;32m    124\u001b[0m     msg \u001b[38;5;241m=\u001b[39m (\n\u001b[0;32m    125\u001b[0m         \u001b[38;5;124mf\u001b[39m\u001b[38;5;124m\"\u001b[39m\u001b[38;5;124mCannot use .str.\u001b[39m\u001b[38;5;132;01m{\u001b[39;00mfunc_name\u001b[38;5;132;01m}\u001b[39;00m\u001b[38;5;124m with values of \u001b[39m\u001b[38;5;124m\"\u001b[39m\n\u001b[0;32m    126\u001b[0m         \u001b[38;5;124mf\u001b[39m\u001b[38;5;124m\"\u001b[39m\u001b[38;5;124minferred dtype \u001b[39m\u001b[38;5;124m'\u001b[39m\u001b[38;5;132;01m{\u001b[39;00m\u001b[38;5;28mself\u001b[39m\u001b[38;5;241m.\u001b[39m_inferred_dtype\u001b[38;5;132;01m}\u001b[39;00m\u001b[38;5;124m'\u001b[39m\u001b[38;5;124m.\u001b[39m\u001b[38;5;124m\"\u001b[39m\n\u001b[0;32m    127\u001b[0m     )\n\u001b[0;32m    128\u001b[0m     \u001b[38;5;28;01mraise\u001b[39;00m \u001b[38;5;167;01mTypeError\u001b[39;00m(msg)\n\u001b[1;32m--> 129\u001b[0m \u001b[38;5;28;01mreturn\u001b[39;00m func(\u001b[38;5;28mself\u001b[39m, \u001b[38;5;241m*\u001b[39margs, \u001b[38;5;241m*\u001b[39m\u001b[38;5;241m*\u001b[39mkwargs)\n",
      "File \u001b[1;32mc:\\Users\\advai\\anaconda3\\Lib\\site-packages\\pandas\\core\\strings\\accessor.py:1281\u001b[0m, in \u001b[0;36mStringMethods.contains\u001b[1;34m(self, pat, case, flags, na, regex)\u001b[0m\n\u001b[0;32m   1154\u001b[0m \u001b[38;5;129m@forbid_nonstring_types\u001b[39m([\u001b[38;5;124m\"\u001b[39m\u001b[38;5;124mbytes\u001b[39m\u001b[38;5;124m\"\u001b[39m])\n\u001b[0;32m   1155\u001b[0m \u001b[38;5;28;01mdef\u001b[39;00m \u001b[38;5;21mcontains\u001b[39m(\n\u001b[0;32m   1156\u001b[0m     \u001b[38;5;28mself\u001b[39m, pat, case: \u001b[38;5;28mbool\u001b[39m \u001b[38;5;241m=\u001b[39m \u001b[38;5;28;01mTrue\u001b[39;00m, flags: \u001b[38;5;28mint\u001b[39m \u001b[38;5;241m=\u001b[39m \u001b[38;5;241m0\u001b[39m, na\u001b[38;5;241m=\u001b[39m\u001b[38;5;28;01mNone\u001b[39;00m, regex: \u001b[38;5;28mbool\u001b[39m \u001b[38;5;241m=\u001b[39m \u001b[38;5;28;01mTrue\u001b[39;00m\n\u001b[0;32m   1157\u001b[0m ):\n\u001b[0;32m   1158\u001b[0m \u001b[38;5;250m    \u001b[39m\u001b[38;5;124mr\u001b[39m\u001b[38;5;124;03m\"\"\"\u001b[39;00m\n\u001b[0;32m   1159\u001b[0m \u001b[38;5;124;03m    Test if pattern or regex is contained within a string of a Series or Index.\u001b[39;00m\n\u001b[0;32m   1160\u001b[0m \n\u001b[1;32m   (...)\u001b[0m\n\u001b[0;32m   1279\u001b[0m \u001b[38;5;124;03m    dtype: bool\u001b[39;00m\n\u001b[0;32m   1280\u001b[0m \u001b[38;5;124;03m    \"\"\"\u001b[39;00m\n\u001b[1;32m-> 1281\u001b[0m     \u001b[38;5;28;01mif\u001b[39;00m regex \u001b[38;5;129;01mand\u001b[39;00m re\u001b[38;5;241m.\u001b[39mcompile(pat)\u001b[38;5;241m.\u001b[39mgroups:\n\u001b[0;32m   1282\u001b[0m         warnings\u001b[38;5;241m.\u001b[39mwarn(\n\u001b[0;32m   1283\u001b[0m             \u001b[38;5;124m\"\u001b[39m\u001b[38;5;124mThis pattern is interpreted as a regular expression, and has \u001b[39m\u001b[38;5;124m\"\u001b[39m\n\u001b[0;32m   1284\u001b[0m             \u001b[38;5;124m\"\u001b[39m\u001b[38;5;124mmatch groups. To actually get the groups, use str.extract.\u001b[39m\u001b[38;5;124m\"\u001b[39m,\n\u001b[0;32m   1285\u001b[0m             \u001b[38;5;167;01mUserWarning\u001b[39;00m,\n\u001b[0;32m   1286\u001b[0m             stacklevel\u001b[38;5;241m=\u001b[39mfind_stack_level(),\n\u001b[0;32m   1287\u001b[0m         )\n\u001b[0;32m   1289\u001b[0m     result \u001b[38;5;241m=\u001b[39m \u001b[38;5;28mself\u001b[39m\u001b[38;5;241m.\u001b[39m_data\u001b[38;5;241m.\u001b[39marray\u001b[38;5;241m.\u001b[39m_str_contains(pat, case, flags, na, regex)\n",
      "File \u001b[1;32mc:\\Users\\advai\\anaconda3\\Lib\\re\\__init__.py:227\u001b[0m, in \u001b[0;36mcompile\u001b[1;34m(pattern, flags)\u001b[0m\n\u001b[0;32m    225\u001b[0m \u001b[38;5;28;01mdef\u001b[39;00m \u001b[38;5;21mcompile\u001b[39m(pattern, flags\u001b[38;5;241m=\u001b[39m\u001b[38;5;241m0\u001b[39m):\n\u001b[0;32m    226\u001b[0m     \u001b[38;5;124m\"\u001b[39m\u001b[38;5;124mCompile a regular expression pattern, returning a Pattern object.\u001b[39m\u001b[38;5;124m\"\u001b[39m\n\u001b[1;32m--> 227\u001b[0m     \u001b[38;5;28;01mreturn\u001b[39;00m _compile(pattern, flags)\n",
      "File \u001b[1;32mc:\\Users\\advai\\anaconda3\\Lib\\re\\__init__.py:277\u001b[0m, in \u001b[0;36m_compile\u001b[1;34m(pattern, flags)\u001b[0m\n\u001b[0;32m    275\u001b[0m     flags \u001b[38;5;241m=\u001b[39m flags\u001b[38;5;241m.\u001b[39mvalue\n\u001b[0;32m    276\u001b[0m \u001b[38;5;28;01mtry\u001b[39;00m:\n\u001b[1;32m--> 277\u001b[0m     \u001b[38;5;28;01mreturn\u001b[39;00m _cache[\u001b[38;5;28mtype\u001b[39m(pattern), pattern, flags]\n\u001b[0;32m    278\u001b[0m \u001b[38;5;28;01mexcept\u001b[39;00m \u001b[38;5;167;01mKeyError\u001b[39;00m:\n\u001b[0;32m    279\u001b[0m     \u001b[38;5;28;01mpass\u001b[39;00m\n",
      "\u001b[1;31mTypeError\u001b[0m: unhashable type: 'Series'"
     ]
    }
   ],
   "source": [
    "from bs4 import BeautifulSoup\n",
    "import requests\n",
    "import pandas as pd\n",
    "import datetime\n",
    "import time\n",
    "import os\n",
    "# t1=time.perf_counter()\n",
    "url='https://www.ucl.ac.uk/library/forms/indigo-seat-availability.php?loc=all'\n",
    "response=requests.get(url)\n",
    "soup=BeautifulSoup(response.text, 'html.parser')\n",
    "lst=soup.find_all('span', {'class': 'mainStat'})\n",
    "lst1=soup.find_all('h2')\n",
    "lst=list(zip(lst,lst1))\n",
    "lst=[(y.text,x.text.split()[0] if 'Currently' not in x.text.split() else -1,float(x.text.split()[0])/float(x.text.split()[4])*100 if 'Currently' not in x.text.split() else -1,datetime.datetime.today().date(),datetime.datetime.now().time()) for (x,y) in lst]\n",
    "df=pd.DataFrame(lst,columns=['Library','Free Seats','% Free','Date', 'Time'])\n",
    "df.style.hide(axis='index')\n",
    "# df=df.sort_values(by='% Free', ascending=False)\n",
    "# print(df.to_string(index=False))\n",
    "# df.copy().to_csv('data/results.csv', mode='a', header=not os.path.exists('data/results.csv'), index=False)\n",
    "# t2=time.perf_counter()\n",
    "# print(t2-t1)\n",
    "date=datetime.datetime.today().date()\n",
    "url='https://library-calendars.ucl.ac.uk/widget/hours/grid?iid=4014&lid=0&date='+str(date)\n",
    "soup=BeautifulSoup(requests.get(url).text,'html.parser')\n",
    "lib=['Great Ormond Street Institute of Child Health Library',\n",
    " 'UCL East Library', 'Language & Speech Science Library', 'SSEES Library',\n",
    " 'School of Pharmacy Library','Joint Library of Ophthalmology',\n",
    " 'Bartlett Library', 'Graduate Hub',\n",
    " 'Queen Square Library',\n",
    " 'Cruciform Hub','Institute of Archaeology Library','   Science Library',\n",
    " 'Main Library','Student Centre', 'IOE Library']\n",
    "x=soup.find_all('tr',{'class':'s-lc-whw-loc'})\n",
    "# print(soup.prettify())\n",
    "lst3=[('12:01am','11:59pm',a[1]) if 'Student Centre' in a[1] else (a[0][0],a[0][2],a[1].strip()) if 'Closed' not in a[0] else ('Closed','Closed',a[1]) for a in [(tuple(i.find_all('td')[datetime.datetime.today().weekday()+1].span.text.strip().split()),b) for b in set([l1 for l1 in lib for i in x if l1 in i.text]) for i in x if b in i.text]]\n",
    "lst3=[a if 'Closed' in a[0] else (datetime.datetime.strptime(a[0], \"%I:%M%p\") if \":\" in a[0] else datetime.datetime.strptime(a[0], \"%I%p\"),datetime.datetime.strptime(a[1], \"%I:%M%p\") if \":\" in a[1] else datetime.datetime.strptime(a[1], \"%I%p\"),str(a[2])) for a in lst3]\n",
    "df1=pd.DataFrame(lst3,columns=['Opening Hour', 'Closing Hour','Library'])\n",
    "df['key']=1\n",
    "df1['key']=1\n",
    "df2=pd.merge(df,df1,on='key',suffixes=['_1','_2'])\n",
    "df2=df2[df2['Library_1'].str.contains(df2['Library_2'])]\n",
    "df2\n"
   ]
  }
 ],
 "metadata": {
  "kernelspec": {
   "display_name": "base",
   "language": "python",
   "name": "python3"
  },
  "language_info": {
   "codemirror_mode": {
    "name": "ipython",
    "version": 3
   },
   "file_extension": ".py",
   "mimetype": "text/x-python",
   "name": "python",
   "nbconvert_exporter": "python",
   "pygments_lexer": "ipython3",
   "version": "3.11.5"
  }
 },
 "nbformat": 4,
 "nbformat_minor": 2
}
