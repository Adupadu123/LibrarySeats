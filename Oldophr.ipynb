{
 "cells": [
  {
   "cell_type": "code",
   "execution_count": null,
   "metadata": {},
   "outputs": [],
   "source": [
    "import pandas as pd \n",
    "from bs4 import BeautifulSoup\n",
    "import requests\n",
    "import datetime\n",
    "df=pd.read_csv('Data/results.csv')\n",
    "df['DateTime']=df['Date']+' '+df['Time']\n",
    "df['DateTime']=pd.to_datetime(df['DateTime'],format='%Y-%m-%d %H:%M:%S.%f',utc=True)\n",
    "df['Date']=pd.to_datetime(df['Date'],format='%Y-%m-%d',utc=True)\n",
    "df['DateTime']=df['DateTime'].dt.tz_convert('Europe/London')\n",
    "lst4=[]\n",
    "for date1 in df['DateTime'].dt.date.unique():\n",
    "    url='https://library-calendars.ucl.ac.uk/widget/hours/grid?iid=4014&lid=0&date='+str(date1)\n",
    "    soup=BeautifulSoup(requests.get(url).text,'html.parser')\n",
    "    lib=['Great Ormond Street Institute of Child Health Library',\n",
    "    'UCL East Library', 'Language & Speech Science Library', 'SSEES Library',\n",
    "    'School of Pharmacy Library','Joint Library of Ophthalmology',\n",
    "    'Bartlett Library', 'Graduate Hub',\n",
    "    'Queen Square Library',\n",
    "    'Cruciform Hub','Institute of Archaeology Library','   Science Library',\n",
    "    'Main Library','Student Centre', 'IOE Library']\n",
    "    x=soup.find_all('tr',{'class':'s-lc-whw-loc'})\n",
    "    lst3=[('12:01am','11:59pm',a[1], date1) if 'Student Centre' in a[1] else (a[0][0],a[0][2],a[1].strip(),date1) if 'Closed' not in a[0] else ('Closed','Closed',a[1],date1) for a in [(tuple(i.find_all('td')[date1.weekday()+1].span.text.strip().split()),b) for b in set([l1 for l1 in lib for i in x if l1 in i.text]) for i in x if b in i.text]]\n",
    "    lst3=[a if 'Closed' in a[0] else (datetime.datetime.strptime(a[0], \"%I:%M%p\") if \":\" in a[0] else datetime.datetime.strptime(a[0], \"%I%p\"),datetime.datetime.strptime(a[1], \"%I:%M%p\") if \":\" in a[1] else datetime.datetime.strptime(a[1], \"%I%p\"),str(a[2]),a[3]) for a in lst3]\n",
    "    lst4.extend(lst3)\n",
    "df1=pd.DataFrame(lst4,columns=['Opening Time', 'Closing Time','Library','Date'])\n",
    "df1['Date']=pd.to_datetime(df1['Date'],format='%Y-%m-%d',utc=True)\n",
    "df1=pd.merge(df,df1,on=['Date'],suffixes=['','_y'])\n",
    "df1['isin']=df1.apply(lambda row: row['Library_y'] in row['Library'] and not ('Language' in row['Library'] and 'Language' not in row['Library_y']), axis=1)\n",
    "df1=df1[df1['isin']==True]\n",
    "df1=df1.drop(columns=['isin','Library_y','DateTime'])\n",
    "df2=pd.read_csv('Data/resultsophr.csv')\n",
    "df2=pd.concat([df1,df2],ignore_index=True)\n",
    "df2.copy().to_csv('data/resultsmerged.csv', mode='a', header=True, index=False)"
   ]
  }
 ],
 "metadata": {
  "kernelspec": {
   "display_name": "base",
   "language": "python",
   "name": "python3"
  },
  "language_info": {
   "codemirror_mode": {
    "name": "ipython",
    "version": 3
   },
   "file_extension": ".py",
   "mimetype": "text/x-python",
   "name": "python",
   "nbconvert_exporter": "python",
   "pygments_lexer": "ipython3",
   "version": "3.11.5"
  }
 },
 "nbformat": 4,
 "nbformat_minor": 2
}
